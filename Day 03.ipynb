{
 "cells": [
  {
   "cell_type": "code",
   "execution_count": 22,
   "metadata": {},
   "outputs": [],
   "source": [
    "import requests\n",
    "import os\n",
    "\n",
    "Day = 3\n",
    "\n",
    "# get file from website using private session key stored in enviromental variables\n",
    "r = requests.get(\n",
    "            f'https://adventofcode.com/2022/day/'+str(Day)+'/input',\n",
    "            cookies={'session': os.getenv('AdventSessionKey')}\n",
    ")\n",
    "\n",
    "data = r.text.strip()\n"
   ]
  },
  {
   "cell_type": "code",
   "execution_count": 23,
   "metadata": {},
   "outputs": [
    {
     "data": {
      "text/plain": [
       "7746"
      ]
     },
     "execution_count": 23,
     "metadata": {},
     "output_type": "execute_result"
    }
   ],
   "source": [
    "score = 0\n",
    "for row in data.split('\\n'):\n",
    "    rucksack1 = row[:int(len(row.strip())/2)]\n",
    "    rucksack2 = row[int(len(row.strip())/2):]\n",
    "    match = None\n",
    "\n",
    "    for char1 in rucksack1:\n",
    "        if char1 in rucksack2:\n",
    "            match = char1\n",
    "            break\n",
    "    \n",
    "    if ord(match) <= ord('Z'):\n",
    "        cur = ord(match) - ord('A') + 1 + 26 # scores go from 27 to 52\n",
    "        score += ord(match) - ord('A') + 1 + 26\n",
    "    else:\n",
    "        cur = ord(match) - ord('a') + 1 # scores go from 1 to 26\n",
    "        score += ord(match) - ord('a') + 1\n",
    " \n",
    "score\n"
   ]
  },
  {
   "cell_type": "code",
   "execution_count": 24,
   "metadata": {},
   "outputs": [
    {
     "data": {
      "text/plain": [
       "2604"
      ]
     },
     "execution_count": 24,
     "metadata": {},
     "output_type": "execute_result"
    }
   ],
   "source": [
    "elflist = data.split('\\n')\n",
    "\n",
    "score = 0\n",
    "for i in range(int(len(elflist)/3)) :\n",
    "    j = i * 3\n",
    "    rucksack1 = elflist[j]\n",
    "    rucksack2 = elflist[j+1]\n",
    "    rucksack3 = elflist[j+2]\n",
    "\n",
    "    match = ''\n",
    "\n",
    "    for char1 in rucksack1:\n",
    "        if char1 in rucksack2 and char1 in rucksack3:\n",
    "            match = char1\n",
    "            break\n",
    "    \n",
    "    if ord(match) <= ord('Z'):\n",
    "        cur = ord(match) - ord('A') + 1 + 26 # scores go from 27 to 52\n",
    "        score += ord(match) - ord('A') + 1 + 26\n",
    "    else:\n",
    "        cur = ord(match) - ord('a') + 1 # scores go from 1 to 26\n",
    "        score += ord(match) - ord('a') + 1\n",
    "\n",
    "score\n"
   ]
  }
 ],
 "metadata": {
  "kernelspec": {
   "display_name": "Python 3.9.12 ('base')",
   "language": "python",
   "name": "python3"
  },
  "language_info": {
   "codemirror_mode": {
    "name": "ipython",
    "version": 3
   },
   "file_extension": ".py",
   "mimetype": "text/x-python",
   "name": "python",
   "nbconvert_exporter": "python",
   "pygments_lexer": "ipython3",
   "version": "3.9.12"
  },
  "orig_nbformat": 4,
  "vscode": {
   "interpreter": {
    "hash": "df373f8daa4863e48189e3ee1b9bdcc41be48fbce57baf3694a1e9c77405ba32"
   }
  }
 },
 "nbformat": 4,
 "nbformat_minor": 2
}
