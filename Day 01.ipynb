{
 "cells": [
  {
   "cell_type": "code",
   "execution_count": 1,
   "metadata": {},
   "outputs": [],
   "source": [
    "import pandas as pd\n",
    "\n",
    "# copied input file from website, read it in\n",
    "df = pd.read_csv('Day 01 input.txt', skip_blank_lines=False, names=['calories'])"
   ]
  },
  {
   "cell_type": "code",
   "execution_count": 2,
   "metadata": {},
   "outputs": [],
   "source": [
    "# set up a helper column to identify blank rows\n",
    "# Cumulative sum becomes elf index, adding 1 at each blank row\n",
    "df['helper'] = df['calories'].isna()\n",
    "df['elf'] = df['helper'].cumsum()"
   ]
  },
  {
   "cell_type": "code",
   "execution_count": 3,
   "metadata": {},
   "outputs": [
    {
     "name": "stdout",
     "output_type": "stream",
     "text": [
      "Top Elf: 73211.0\n",
      "Sum of Top 3 Elves:  213958.0\n"
     ]
    }
   ],
   "source": [
    "# total each elf and get puzzle answers\n",
    "results = df.groupby(['elf'])['calories'].sum()\n",
    "\n",
    "print('Top Elf:', max(results))\n",
    "print('Sum of Top 3 Elves: ', sum(results.nlargest(3)))"
   ]
  }
 ],
 "metadata": {
  "kernelspec": {
   "display_name": "Python 3.9.12 ('base')",
   "language": "python",
   "name": "python3"
  },
  "language_info": {
   "codemirror_mode": {
    "name": "ipython",
    "version": 3
   },
   "file_extension": ".py",
   "mimetype": "text/x-python",
   "name": "python",
   "nbconvert_exporter": "python",
   "pygments_lexer": "ipython3",
   "version": "3.9.12"
  },
  "orig_nbformat": 4,
  "vscode": {
   "interpreter": {
    "hash": "df373f8daa4863e48189e3ee1b9bdcc41be48fbce57baf3694a1e9c77405ba32"
   }
  }
 },
 "nbformat": 4,
 "nbformat_minor": 2
}
