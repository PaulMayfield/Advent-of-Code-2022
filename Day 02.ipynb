{
 "cells": [
  {
   "cell_type": "code",
   "execution_count": 20,
   "metadata": {},
   "outputs": [
    {
     "name": "stdout",
     "output_type": "stream",
     "text": [
      "Score from assumed strategy:  13809\n"
     ]
    }
   ],
   "source": [
    "file_data = open('Day 02 input.txt')\n",
    "\n",
    "score = 0\n",
    "for row in file_data:\n",
    "    \n",
    "    score += ord(row[2]) - ord('X') + 1 #X=1, Y=2, Z=3\n",
    "    \n",
    "    if row[0:2+1] in ['A X','B Y','C Z']: # Draw\n",
    "        score += 3\n",
    "    elif row[0:2+1] in ['A Y','B Z','C X']: # Win\n",
    "        score += 6\n",
    "    \n",
    "print('Score from assumed strategy: ', score)\n"
   ]
  },
  {
   "cell_type": "code",
   "execution_count": 23,
   "metadata": {},
   "outputs": [
    {
     "name": "stdout",
     "output_type": "stream",
     "text": [
      "Score from second strategy:  12316\n"
     ]
    }
   ],
   "source": [
    "file_data = open('Day 02 input.txt')\n",
    "\n",
    "score = 0\n",
    "for row in file_data:\n",
    "    \n",
    "    score += 3* (ord(row[2]) - ord('X')) #X (lose) 0* 3, Y (draw) 1*3, Z (win) 2 * 3)\n",
    "    \n",
    "    score += 1 #at least a rock\n",
    "    if row[0:2+1] in ['A Z','B Y','C X']: # Paper\n",
    "        score += 1\n",
    "    elif row[0:2+1] in ['A X','B Z','C Y']: # Scissors\n",
    "        score += 2\n",
    "    \n",
    "print('Score from second strategy: ', score)\n"
   ]
  }
 ],
 "metadata": {
  "kernelspec": {
   "display_name": "Python 3.9.12 ('base')",
   "language": "python",
   "name": "python3"
  },
  "language_info": {
   "codemirror_mode": {
    "name": "ipython",
    "version": 3
   },
   "file_extension": ".py",
   "mimetype": "text/x-python",
   "name": "python",
   "nbconvert_exporter": "python",
   "pygments_lexer": "ipython3",
   "version": "3.9.12"
  },
  "orig_nbformat": 4,
  "vscode": {
   "interpreter": {
    "hash": "df373f8daa4863e48189e3ee1b9bdcc41be48fbce57baf3694a1e9c77405ba32"
   }
  }
 },
 "nbformat": 4,
 "nbformat_minor": 2
}
