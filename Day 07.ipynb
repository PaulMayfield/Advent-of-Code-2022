{
 "cells": [
  {
   "cell_type": "code",
   "execution_count": 115,
   "metadata": {},
   "outputs": [],
   "source": [
    "import requests\n",
    "import os\n",
    "\n",
    "Day = 7\n",
    "\n",
    "# get file from website using private session key stored in enviromental variables\n",
    "r = requests.get(\n",
    "            f'https://adventofcode.com/2022/day/'+str(Day)+'/input',\n",
    "            cookies={'session': os.getenv('AdventSessionKey')}\n",
    ")\n",
    "\n",
    "\n",
    "data = r.text.strip().replace('$ cd','$cd').replace('$ ls','$ls').split('\\n')\n"
   ]
  },
  {
   "cell_type": "code",
   "execution_count": 124,
   "metadata": {},
   "outputs": [],
   "source": [
    "# copy paste example data from website for easier problem solving.  comment this cell out and use first cell for the real puzzle.\n",
    "\n",
    "#test = '$ cd /\\n$ ls\\ndir a\\n14848514 b.txt\\n8504156 c.dat\\ndir d\\n$ cd a\\n$ ls\\ndir e\\n29116 f\\n2557 g\\n62596 h.lst\\n$ cd e\\n$ ls\\n584 i\\n$ cd ..\\n$ cd ..\\n$ cd d\\n$ ls\\n4060174 j\\n8033020 d.log\\n5626152 d.ext\\n7214296 k\\n'\n",
    "#data = test.strip().replace('$ cd','$cd').replace('$ ls','$ls').split('\\n')\n"
   ]
  },
  {
   "cell_type": "code",
   "execution_count": 117,
   "metadata": {},
   "outputs": [],
   "source": [
    "commands = [x.split(' ') for x in data]\n",
    "\n",
    "dirList = ['//']\n",
    "level = 0\n",
    "prefix=''\n",
    "\n",
    "for command in commands:\n",
    "    \n",
    "    # Build the full File path for each file\n",
    "\n",
    "    # current directory as 'prefix'\n",
    "    if command[0] == '$cd':\n",
    "        if command[1] == '..':\n",
    "            prefix = prefix[:prefix[:prefix.rfind('/')].rfind('/') + 1]\n",
    "        else:\n",
    "            prefix += command[1] + '/'\n",
    "    elif command[0].isdigit():\n",
    "        command.append(prefix+command[1])\n",
    "    \n",
    "    # While doing this, also build a list of directories\n",
    "    if command[0] == 'dir':\n",
    "        dirList.append(prefix+command[1])\n",
    "\n",
    "files = [[x[2],x[0]] for x in commands if(x[0].isdigit())] # full path file, filesize... only keep files in the list\n"
   ]
  },
  {
   "cell_type": "code",
   "execution_count": 118,
   "metadata": {},
   "outputs": [
    {
     "data": {
      "text/plain": [
       "1490523"
      ]
     },
     "execution_count": 118,
     "metadata": {},
     "output_type": "execute_result"
    }
   ],
   "source": [
    "ans1 = []\n",
    "\n",
    "# for each directory, go find all the files whose full path starts with that directory, sum up the filesizes\n",
    "for dir in dirList:\n",
    "    filesizes = 0\n",
    "    for file in files:\n",
    "        if dir == file[0][:len(dir)]: #match\n",
    "            filesizes += int(file[1])\n",
    "    ans1.append([dir,filesizes])\n",
    "\n",
    "sum([x[1] for x in ans1 if(x[1]<=100000)]) #only add up the directories under a certain size, per instructions"
   ]
  },
  {
   "cell_type": "code",
   "execution_count": 125,
   "metadata": {},
   "outputs": [
    {
     "data": {
      "text/plain": [
       "['//qcznqph/pdtpt/qtbprrq/sbtl', 12390492]"
      ]
     },
     "execution_count": 125,
     "metadata": {},
     "output_type": "execute_result"
    }
   ],
   "source": [
    "# Delete directory closest to but larger than this value\n",
    "mindir = ans1[0][1]-(70000000-30000000)\n",
    "\n",
    "ans2 = [[x[0],x[1]] for x in ans1 if(x[1]>mindir)] # make a list of directories that meet criteria\n",
    "\n",
    "ans2.sort()\n",
    "\n",
    "ans2[-1] #pick the smallest (after sorting)"
   ]
  }
 ],
 "metadata": {
  "kernelspec": {
   "display_name": "Python 3.9.12 ('base')",
   "language": "python",
   "name": "python3"
  },
  "language_info": {
   "codemirror_mode": {
    "name": "ipython",
    "version": 3
   },
   "file_extension": ".py",
   "mimetype": "text/x-python",
   "name": "python",
   "nbconvert_exporter": "python",
   "pygments_lexer": "ipython3",
   "version": "3.9.12"
  },
  "orig_nbformat": 4,
  "vscode": {
   "interpreter": {
    "hash": "df373f8daa4863e48189e3ee1b9bdcc41be48fbce57baf3694a1e9c77405ba32"
   }
  }
 },
 "nbformat": 4,
 "nbformat_minor": 2
}
