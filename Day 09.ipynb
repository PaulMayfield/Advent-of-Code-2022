{
 "cells": [
  {
   "cell_type": "code",
   "execution_count": 56,
   "metadata": {},
   "outputs": [],
   "source": [
    "import requests\n",
    "import os\n",
    "\n",
    "Day = 9\n",
    "\n",
    "# get file from website using private session key stored in enviromental variables\n",
    "r = requests.get(\n",
    "            f'https://adventofcode.com/2022/day/'+str(Day)+'/input',\n",
    "            cookies={'session': os.getenv('AdventSessionKey')}\n",
    ")\n",
    "\n",
    "\n",
    "data = r.text.strip().split('\\n')\n",
    "moves = [x.split(' ') for x in data]"
   ]
  },
  {
   "cell_type": "code",
   "execution_count": 57,
   "metadata": {},
   "outputs": [],
   "source": [
    "def sign(x):\n",
    "    if x > 0:\n",
    "        return 1\n",
    "    elif x == 0:\n",
    "        return 0\n",
    "    else:\n",
    "        return -1\n",
    "\n",
    "def follow(MPosition,NPosition):\n",
    "    if abs(MPosition[-1][0] - NPosition[-1][0]) <=1 and abs(MPosition[-1][1] - NPosition[-1][1]) <=1:\n",
    "        x = 0\n",
    "        y = 0\n",
    "    else:\n",
    "        x = sign(MPosition[-1][0] - NPosition[-1][0])\n",
    "        y = sign(MPosition[-1][1] - NPosition[-1][1])\n",
    "    NPosition.append([NPosition[-1][0] + x,NPosition[-1][1] + y]) # move towards H if not adjacent\n",
    "\n",
    "    return NPosition\n"
   ]
  },
  {
   "cell_type": "code",
   "execution_count": 60,
   "metadata": {},
   "outputs": [],
   "source": [
    "HPosition = [[0,0]]\n",
    "TPosition = [[0,0]]\n",
    "Position2 = [[0,0]]\n",
    "Position3 = [[0,0]]\n",
    "Position4 = [[0,0]]\n",
    "Position5 = [[0,0]]\n",
    "Position6 = [[0,0]]\n",
    "Position7 = [[0,0]]\n",
    "Position8 = [[0,0]]\n",
    "Position9 = [[0,0]]\n",
    "\n",
    "\n",
    "for instruction in moves:\n",
    "    if instruction[0] == 'U':\n",
    "        for step in range(int(instruction[1])):\n",
    "            HPosition.append([HPosition[-1][0],HPosition[-1][1]+1]) # move up one and record H position\n",
    "            TPosition = follow(HPosition,TPosition)\n",
    "            Position2 = follow(TPosition,Position2)\n",
    "            Position3 = follow(Position2,Position3)\n",
    "            Position4 = follow(Position3,Position4)\n",
    "            Position5 = follow(Position4,Position5)\n",
    "            Position6 = follow(Position5,Position6)\n",
    "            Position7 = follow(Position6,Position7)\n",
    "            Position8 = follow(Position7,Position8)\n",
    "            Position9 = follow(Position8,Position9)\n",
    "    if instruction[0] == 'D':\n",
    "        for step in range(int(instruction[1])):\n",
    "            HPosition.append([HPosition[-1][0],HPosition[-1][1]-1]) # move up one and record H position -- -1 instead of + 1\n",
    "            TPosition = follow(HPosition,TPosition)\n",
    "            Position2 = follow(TPosition,Position2)\n",
    "            Position3 = follow(Position2,Position3)\n",
    "            Position4 = follow(Position3,Position4)\n",
    "            Position5 = follow(Position4,Position5)\n",
    "            Position6 = follow(Position5,Position6)\n",
    "            Position7 = follow(Position6,Position7)\n",
    "            Position8 = follow(Position7,Position8)\n",
    "            Position9 = follow(Position8,Position9)\n",
    "    if instruction[0] == 'L':\n",
    "        for step in range(int(instruction[1])):\n",
    "            HPosition.append([HPosition[-1][0]-1,HPosition[-1][1]]) # move up one and record H position -- -1 on x c-oord to go left\n",
    "            TPosition = follow(HPosition,TPosition)\n",
    "            Position2 = follow(TPosition,Position2)\n",
    "            Position3 = follow(Position2,Position3)\n",
    "            Position4 = follow(Position3,Position4)\n",
    "            Position5 = follow(Position4,Position5)\n",
    "            Position6 = follow(Position5,Position6)\n",
    "            Position7 = follow(Position6,Position7)\n",
    "            Position8 = follow(Position7,Position8)\n",
    "            Position9 = follow(Position8,Position9)\n",
    "    if instruction[0] == 'R':\n",
    "        for step in range(int(instruction[1])):\n",
    "            HPosition.append([HPosition[-1][0]+1,HPosition[-1][1]])\n",
    "            TPosition = follow(HPosition,TPosition)\n",
    "            Position2 = follow(TPosition,Position2)\n",
    "            Position3 = follow(Position2,Position3)\n",
    "            Position4 = follow(Position3,Position4)\n",
    "            Position5 = follow(Position4,Position5)\n",
    "            Position6 = follow(Position5,Position6)\n",
    "            Position7 = follow(Position6,Position7)\n",
    "            Position8 = follow(Position7,Position8)\n",
    "            Position9 = follow(Position8,Position9)\n",
    "\n",
    "\n",
    "    "
   ]
  },
  {
   "cell_type": "code",
   "execution_count": 61,
   "metadata": {},
   "outputs": [
    {
     "name": "stdout",
     "output_type": "stream",
     "text": [
      "5960\n"
     ]
    }
   ],
   "source": [
    "unique_list = list()\n",
    "unique_items = 0\n",
    "\n",
    "for item in TPosition:\n",
    "    if item not in unique_list:\n",
    "        unique_list.append(item)\n",
    "        unique_items += 1\n",
    "\n",
    "print(unique_items)"
   ]
  },
  {
   "cell_type": "code",
   "execution_count": 62,
   "metadata": {},
   "outputs": [
    {
     "name": "stdout",
     "output_type": "stream",
     "text": [
      "2327\n"
     ]
    }
   ],
   "source": [
    "unique_list = list()\n",
    "unique_items = 0\n",
    "\n",
    "for item in Position9:\n",
    "    if item not in unique_list:\n",
    "        unique_list.append(item)\n",
    "        unique_items += 1\n",
    "\n",
    "print(unique_items)"
   ]
  }
 ],
 "metadata": {
  "kernelspec": {
   "display_name": "Python 3.9.12 ('base')",
   "language": "python",
   "name": "python3"
  },
  "language_info": {
   "codemirror_mode": {
    "name": "ipython",
    "version": 3
   },
   "file_extension": ".py",
   "mimetype": "text/x-python",
   "name": "python",
   "nbconvert_exporter": "python",
   "pygments_lexer": "ipython3",
   "version": "3.9.12"
  },
  "orig_nbformat": 4,
  "vscode": {
   "interpreter": {
    "hash": "df373f8daa4863e48189e3ee1b9bdcc41be48fbce57baf3694a1e9c77405ba32"
   }
  }
 },
 "nbformat": 4,
 "nbformat_minor": 2
}
