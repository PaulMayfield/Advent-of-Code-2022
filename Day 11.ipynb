{
 "cells": [
  {
   "cell_type": "code",
   "execution_count": 43,
   "metadata": {},
   "outputs": [],
   "source": [
    "import requests\n",
    "import os\n",
    "\n",
    "Day = 11\n",
    "\n",
    "# get file from website using private session key stored in enviromental variables\n",
    "r = requests.get(\n",
    "            f'https://adventofcode.com/2022/day/'+str(Day)+'/input',\n",
    "            cookies={'session': os.getenv('AdventSessionKey')}\n",
    ")\n",
    "\n",
    "data = r.text.strip().split('\\n')\n"
   ]
  },
  {
   "cell_type": "code",
   "execution_count": 23,
   "metadata": {},
   "outputs": [],
   "source": [
    "# inspecting data, not too many monkeys...\n",
    "monkey =[[]] * 8\n",
    "monkey[0] = [98, 70, 75, 80, 84, 89, 55, 98]\n",
    "monkey[1] = [59]\n",
    "monkey[2] = [77, 95, 54, 65, 89]\n",
    "monkey[3] = [71, 64, 75]\n",
    "monkey[4] = [74, 55, 87, 98]\n",
    "monkey[5] = [90, 98, 85, 52, 91, 60]\n",
    "monkey[6] = [99, 51]\n",
    "monkey[7] = [98, 94, 59, 76, 51, 65, 75]\n",
    "\n",
    "monkeyInspect = [0] * 8\n"
   ]
  },
  {
   "cell_type": "code",
   "execution_count": 25,
   "metadata": {},
   "outputs": [],
   "source": [
    "for _ in range(20):\n",
    "\n",
    "    # Monkey 0\n",
    "    m = 0\n",
    "    for _ in range(len(monkey[m])):\n",
    "        monkeyInspect[m] += 1 \n",
    "        monkey[m][0] = int((monkey[m][0] * 2) / 3)         # operation on first item in list, /3 = gets bored\n",
    "        if monkey[m][0] % 11 == 0:              # divisibility check\n",
    "            monkey[1].append(monkey[m].pop(0))  # pop item and send to correct money\n",
    "        else:\n",
    "            monkey[4].append(monkey[m].pop(0))\n",
    "\n",
    "    # Monkey 1\n",
    "    m = 1\n",
    "    for _ in range(len(monkey[m])):\n",
    "        monkeyInspect[m] += 1 \n",
    "        monkey[m][0] = int((monkey[m][0] * monkey[m][0]) / 3)         # operation on first item in list, /3 = gets bored\n",
    "        if monkey[m][0] % 19 == 0:              # divisibility check\n",
    "            monkey[7].append(monkey[m].pop(0))  # pop item and send to correct money\n",
    "        else:\n",
    "            monkey[3].append(monkey[m].pop(0))\n",
    "\n",
    "    # Monkey 2\n",
    "    m = 2\n",
    "    for _ in range(len(monkey[m])):\n",
    "        monkeyInspect[m] += 1 \n",
    "        monkey[m][0] = int((monkey[m][0] + 6) / 3)         # operation on first item in list, /3 = gets bored\n",
    "        if monkey[m][0] % 7 == 0:              # divisibility check\n",
    "            monkey[0].append(monkey[m].pop(0))  # pop item and send to correct money\n",
    "        else:\n",
    "            monkey[5].append(monkey[m].pop(0))\n",
    "\n",
    "    # Monkey 3\n",
    "    m = 3\n",
    "    for _ in range(len(monkey[m])):\n",
    "        monkeyInspect[m] += 1 \n",
    "        monkey[m][0] = int((monkey[m][0] + 2) / 3)         # operation on first item in list, /3 = gets bored\n",
    "        if monkey[m][0] % 17 == 0:              # divisibility check\n",
    "            monkey[6].append(monkey[m].pop(0))  # pop item and send to correct money\n",
    "        else:\n",
    "            monkey[2].append(monkey[m].pop(0))\n",
    "\n",
    "    # Monkey 4\n",
    "    m = 4\n",
    "    for _ in range(len(monkey[m])):\n",
    "        monkeyInspect[m] += 1 \n",
    "        monkey[m][0] = int((monkey[m][0] * 11) / 3)         # operation on first item in list, /3 = gets bored\n",
    "        if monkey[m][0] % 3 == 0:              # divisibility check\n",
    "            monkey[1].append(monkey[m].pop(0))  # pop item and send to correct money\n",
    "        else:\n",
    "            monkey[7].append(monkey[m].pop(0))\n",
    "\n",
    "    # Monkey 5\n",
    "    m = 5\n",
    "    for _ in range(len(monkey[m])):\n",
    "        monkeyInspect[m] += 1 \n",
    "        monkey[m][0] = int((monkey[m][0] + 7) / 3)         # operation on first item in list, /3 = gets bored\n",
    "        if monkey[m][0] % 5 == 0:              # divisibility check\n",
    "            monkey[0].append(monkey[m].pop(0))  # pop item and send to correct money\n",
    "        else:\n",
    "            monkey[4].append(monkey[m].pop(0))\n",
    "\n",
    "    # Monkey 6\n",
    "    m = 6\n",
    "    for _ in range(len(monkey[m])):\n",
    "        monkeyInspect[m] += 1 \n",
    "        monkey[m][0] = int((monkey[m][0] + 1) / 3)         # operation on first item in list, /3 = gets bored\n",
    "        if monkey[m][0] % 13 == 0:              # divisibility check\n",
    "            monkey[5].append(monkey[m].pop(0))  # pop item and send to correct money\n",
    "        else:\n",
    "            monkey[2].append(monkey[m].pop(0))\n",
    "\n",
    "    # Monkey 7\n",
    "    m = 7\n",
    "    for _ in range(len(monkey[m])):\n",
    "        monkeyInspect[m] += 1 \n",
    "        monkey[m][0] = int((monkey[m][0] + 5) / 3)         # operation on first item in list, /3 = gets bored\n",
    "        if monkey[m][0] % 2 == 0:              # divisibility check\n",
    "            monkey[3].append(monkey[m].pop(0))  # pop item and send to correct money\n",
    "        else:\n",
    "            monkey[6].append(monkey[m].pop(0))\n",
    "\n"
   ]
  },
  {
   "cell_type": "code",
   "execution_count": 27,
   "metadata": {},
   "outputs": [
    {
     "data": {
      "text/plain": [
       "60270"
      ]
     },
     "execution_count": 27,
     "metadata": {},
     "output_type": "execute_result"
    }
   ],
   "source": [
    "monkeyInspect.sort()\n",
    "monkeyInspect[-1] * monkeyInspect[-2]"
   ]
  }
 ],
 "metadata": {
  "kernelspec": {
   "display_name": "Python 3.9.12 ('base')",
   "language": "python",
   "name": "python3"
  },
  "language_info": {
   "codemirror_mode": {
    "name": "ipython",
    "version": 3
   },
   "file_extension": ".py",
   "mimetype": "text/x-python",
   "name": "python",
   "nbconvert_exporter": "python",
   "pygments_lexer": "ipython3",
   "version": "3.9.12"
  },
  "orig_nbformat": 4,
  "vscode": {
   "interpreter": {
    "hash": "df373f8daa4863e48189e3ee1b9bdcc41be48fbce57baf3694a1e9c77405ba32"
   }
  }
 },
 "nbformat": 4,
 "nbformat_minor": 2
}
