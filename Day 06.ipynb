{
 "cells": [
  {
   "cell_type": "code",
   "execution_count": 6,
   "metadata": {},
   "outputs": [],
   "source": [
    "import requests\n",
    "import os\n",
    "\n",
    "Day = 6\n",
    "\n",
    "# get file from website using private session key stored in enviromental variables\n",
    "r = requests.get(\n",
    "            f'https://adventofcode.com/2022/day/'+str(Day)+'/input',\n",
    "            cookies={'session': os.getenv('AdventSessionKey')}\n",
    ")\n",
    "\n",
    "data = r.text.strip()"
   ]
  },
  {
   "cell_type": "code",
   "execution_count": 31,
   "metadata": {},
   "outputs": [
    {
     "data": {
      "text/plain": [
       "3708"
      ]
     },
     "execution_count": 31,
     "metadata": {},
     "output_type": "execute_result"
    }
   ],
   "source": [
    "signalSize = 14\n",
    "\n",
    "for i in range(signalSize,len(data)): #check this block\n",
    "    score = i # assume success\n",
    "    for char in data[i-signalSize:i]: # check each char in block\n",
    "        if len(data[i-signalSize:i].replace(char,'')) < signalSize-1: # remove char, if block size is too small then char was repeated\n",
    "            score = 0 # found a match so this i failed\n",
    "            break\n",
    "    if score > 0: # stop first time you find one\n",
    "            break\n",
    "score\n",
    "\n"
   ]
  }
 ],
 "metadata": {
  "kernelspec": {
   "display_name": "Python 3.9.12 ('base')",
   "language": "python",
   "name": "python3"
  },
  "language_info": {
   "codemirror_mode": {
    "name": "ipython",
    "version": 3
   },
   "file_extension": ".py",
   "mimetype": "text/x-python",
   "name": "python",
   "nbconvert_exporter": "python",
   "pygments_lexer": "ipython3",
   "version": "3.9.12"
  },
  "orig_nbformat": 4,
  "vscode": {
   "interpreter": {
    "hash": "df373f8daa4863e48189e3ee1b9bdcc41be48fbce57baf3694a1e9c77405ba32"
   }
  }
 },
 "nbformat": 4,
 "nbformat_minor": 2
}
