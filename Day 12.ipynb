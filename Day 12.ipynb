{
 "cells": [
  {
   "cell_type": "code",
   "execution_count": 52,
   "metadata": {},
   "outputs": [],
   "source": [
    "import requests\n",
    "import os\n",
    "\n",
    "Day = 12\n",
    "\n",
    "# get file from website using private session key stored in enviromental variables\n",
    "r = requests.get(\n",
    "            f'https://adventofcode.com/2022/day/'+str(Day)+'/input',\n",
    "            cookies={'session': os.getenv('AdventSessionKey')}\n",
    ")\n",
    "\n",
    "data = [list(x) for x in r.text.replace('S','a').replace('E','z').strip().split('\\n')]\n",
    "\n"
   ]
  },
  {
   "cell_type": "code",
   "execution_count": 53,
   "metadata": {},
   "outputs": [],
   "source": [
    "\n",
    "# convert grid to integers\n",
    "grid = []\n",
    "for row in data:\n",
    "    grid.append([ord(x) - ord('a') + 1 for x in row])\n",
    "\n",
    "\n",
    "# a bit manual, got the starting and ending coordinates before fixing the code above to make S and E work with the algorithm\n",
    "# start\n",
    "for x, row in enumerate(grid):\n",
    "    if 0 in row:\n",
    "        for y, i in enumerate(row):\n",
    "            if i == 0:\n",
    "                print(x,y)\n",
    "\n",
    "# end\n",
    "for x, row in enumerate(grid):\n",
    "    if 27 in row:\n",
    "        for y, i in enumerate(row):\n",
    "            if i == 27:\n",
    "                print(x,y)\n",
    "\n",
    "\n"
   ]
  },
  {
   "cell_type": "code",
   "execution_count": 54,
   "metadata": {},
   "outputs": [],
   "source": [
    "import networkx as nx\n",
    "\n",
    "G = nx.DiGraph()\n",
    "\n",
    "# initialize graphs to track if a point is visited,\n",
    "n, m = len(grid), len(grid[0])\n",
    "\n",
    "directions = [(0, 1), (1, 0), (-1, 0), (0, -1)]\n",
    "\n",
    "for row in range(n):\n",
    "    for col in range(m):\n",
    "        for direction in directions:\n",
    "            new_row, new_col = row + direction[0], col + direction[1]\n",
    "            if -1 < new_row < n and -1 < new_col < m :\n",
    "                dist_to_new_point = grid[new_row][new_col] - grid[row][col]\n",
    "                if dist_to_new_point <= 1:\n",
    "                    G.add_edge((row,col),(new_row,new_col))\n",
    "\n",
    "    "
   ]
  },
  {
   "cell_type": "code",
   "execution_count": 55,
   "metadata": {},
   "outputs": [
    {
     "data": {
      "text/plain": [
       "449"
      ]
     },
     "execution_count": 55,
     "metadata": {},
     "output_type": "execute_result"
    }
   ],
   "source": [
    "len(nx.shortest_path(G, (20,0), (20,107)))-1\n"
   ]
  },
  {
   "cell_type": "code",
   "execution_count": 59,
   "metadata": {},
   "outputs": [
    {
     "data": {
      "text/plain": [
       "443"
      ]
     },
     "execution_count": 59,
     "metadata": {},
     "output_type": "execute_result"
    }
   ],
   "source": [
    "ans2 =  m * n # start with longest possible, look for lower values\n",
    "\n",
    "for x in range(n):\n",
    "    for y in range(m):\n",
    "        if grid[x][y] == 1:\n",
    "            try:\n",
    "                ans2 = min(ans2, len(nx.shortest_path(G, (x,y), (20,107)))-1)\n",
    "            except:\n",
    "                pass\n",
    "ans2"
   ]
  }
 ],
 "metadata": {
  "kernelspec": {
   "display_name": "Python 3.9.12 ('base')",
   "language": "python",
   "name": "python3"
  },
  "language_info": {
   "codemirror_mode": {
    "name": "ipython",
    "version": 3
   },
   "file_extension": ".py",
   "mimetype": "text/x-python",
   "name": "python",
   "nbconvert_exporter": "python",
   "pygments_lexer": "ipython3",
   "version": "3.9.12"
  },
  "orig_nbformat": 4,
  "vscode": {
   "interpreter": {
    "hash": "df373f8daa4863e48189e3ee1b9bdcc41be48fbce57baf3694a1e9c77405ba32"
   }
  }
 },
 "nbformat": 4,
 "nbformat_minor": 2
}
