{
 "cells": [
  {
   "cell_type": "code",
   "execution_count": 93,
   "metadata": {},
   "outputs": [],
   "source": [
    "import requests\n",
    "import os\n",
    "\n",
    "Day = 8\n",
    "\n",
    "# get file from website using private session key stored in enviromental variables\n",
    "r = requests.get(\n",
    "            f'https://adventofcode.com/2022/day/'+str(Day)+'/input',\n",
    "            cookies={'session': os.getenv('AdventSessionKey')}\n",
    ")\n",
    "\n",
    "\n",
    "data = r.text.strip().split('\\n')\n"
   ]
  },
  {
   "cell_type": "code",
   "execution_count": 94,
   "metadata": {},
   "outputs": [
    {
     "name": "stdout",
     "output_type": "stream",
     "text": [
      "Trees you can see: 1560\n"
     ]
    }
   ],
   "source": [
    "treeView = []\n",
    "\n",
    "for row in range(len(data)): # row index\n",
    "    treeView.append([0]*len(data[row]))\n",
    "    treeSizeL = -1\n",
    "    treeSizeR = -1\n",
    "    for i in range(len(data[row])):\n",
    "        if int(data[row][i]) > treeSizeL:\n",
    "            treeView[row][i] = 1\n",
    "            treeSizeL = int(data[row][i])\n",
    "        if int(data[row][-1-i]) > treeSizeR:\n",
    "            treeView[row][-1-i] = 1\n",
    "            treeSizeR = int(data[row][-1-i])\n",
    "\n",
    "\n",
    "#transpose and do it again to get the \"up\" and \"down\" views\n",
    "data = [list(x) for x in zip(*data)] #transpose\n",
    "treeView = [list(x) for x in zip(*treeView)] #transpose\n",
    "\n",
    "for row in range(len(data)): # row index\n",
    "    # no need to add rows to TreeView after it's already set up from the first pass\n",
    "    treeSizeL = -1\n",
    "    treeSizeR = -1\n",
    "    for i in range(len(data[row])):\n",
    "        if int(data[row][i]) > treeSizeL:\n",
    "            treeView[row][i] = 1\n",
    "            treeSizeL = int(data[row][i])\n",
    "        if int(data[row][-1-i]) > treeSizeR:\n",
    "            treeView[row][-1-i] = 1\n",
    "            treeSizeR = int(data[row][-1-i])\n",
    "\n",
    "print('Trees you can see:', sum([sum(x) for x in treeView]))\n"
   ]
  },
  {
   "cell_type": "code",
   "execution_count": 96,
   "metadata": {},
   "outputs": [
    {
     "name": "stdout",
     "output_type": "stream",
     "text": [
      "Most Scenic Score: 252000\n"
     ]
    }
   ],
   "source": [
    "rowLength = len(data)\n",
    "colLength = len(data[0])\n",
    "\n",
    "for row in range(rowLength): \n",
    "    for col in range(colLength): \n",
    "        # specific tree\n",
    "        treeSize = data[row][col]\n",
    "        scenicScore = 1\n",
    "        \n",
    "        #check left\n",
    "        iterScore = 0\n",
    "        for x in range(col-1,-1,-1):\n",
    "            iterScore += 1\n",
    "            if data[row][x] >= treeSize:\n",
    "                break\n",
    "        scenicScore *= iterScore\n",
    "\n",
    "        #check right\n",
    "        iterScore = 0\n",
    "        for x in range(col+1,rowLength,1):\n",
    "            iterScore += 1\n",
    "            if data[row][x] >= treeSize:\n",
    "                break\n",
    "        scenicScore *= iterScore\n",
    "\n",
    "        #check up\n",
    "        iterScore = 0\n",
    "        for x in range(row-1,-1,-1):\n",
    "            iterScore += 1\n",
    "            if data[x][col] >= treeSize:\n",
    "                break\n",
    "        scenicScore *= iterScore\n",
    "\n",
    "        #check down\n",
    "        iterScore = 0\n",
    "        for x in range(row+1,colLength,1):\n",
    "            iterScore += 1\n",
    "            if data[x][col] >= treeSize:\n",
    "                break\n",
    "        scenicScore *= iterScore\n",
    "\n",
    "        treeView[row][col] = scenicScore\n",
    "\n",
    "\n",
    "print('Most Scenic Score:', max([max(x) for x in treeView]))"
   ]
  }
 ],
 "metadata": {
  "kernelspec": {
   "display_name": "Python 3.9.12 ('base')",
   "language": "python",
   "name": "python3"
  },
  "language_info": {
   "codemirror_mode": {
    "name": "ipython",
    "version": 3
   },
   "file_extension": ".py",
   "mimetype": "text/x-python",
   "name": "python",
   "nbconvert_exporter": "python",
   "pygments_lexer": "ipython3",
   "version": "3.9.12"
  },
  "orig_nbformat": 4,
  "vscode": {
   "interpreter": {
    "hash": "df373f8daa4863e48189e3ee1b9bdcc41be48fbce57baf3694a1e9c77405ba32"
   }
  }
 },
 "nbformat": 4,
 "nbformat_minor": 2
}
