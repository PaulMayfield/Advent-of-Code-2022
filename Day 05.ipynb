{
 "cells": [
  {
   "cell_type": "code",
   "execution_count": 1,
   "metadata": {},
   "outputs": [],
   "source": [
    "import requests\n",
    "import os\n",
    "\n",
    "Day = 4\n",
    "\n",
    "# get file from website using private session key stored in enviromental variables\n",
    "r = requests.get(\n",
    "            f'https://adventofcode.com/2022/day/'+str(Day)+'/input',\n",
    "            cookies={'session': os.getenv('AdventSessionKey')}\n",
    ")\n",
    "\n",
    "data = r.text.strip()"
   ]
  },
  {
   "cell_type": "code",
   "execution_count": 17,
   "metadata": {},
   "outputs": [
    {
     "name": "stdout",
     "output_type": "stream",
     "text": [
      "Number of non-busy Elves: 496\n",
      "Number of overlapping Elf pairs: 847\n"
     ]
    }
   ],
   "source": [
    "\n",
    "score1 = 0\n",
    "score2 = 0\n",
    "for row in data.split('\\n'):\n",
    "    # replace to get only commas to make the split easier\n",
    "    # list complehension to convert strings to integers in one step\n",
    "    [elf1lo,elf1hi,elf2lo,elf2hi] = [int(n) for n in row.replace('-',',').split(',')] # range endpoints for each elf in current row\n",
    "    \n",
    "    # Puzzle 1\n",
    "    if elf1lo >= elf2lo and elf1hi <= elf2hi: #elf 1 ends both insted range of elf 2\n",
    "        score1 += 1\n",
    "    elif elf2lo >= elf1lo and elf2hi <= elf1hi: #elf 2 ends both insted range of elf 1\n",
    "        score1 += 1\n",
    "\n",
    "    # Puzzle 2\n",
    "    if elf1lo >= elf2lo and elf1lo <= elf2hi: #elf 1 lo is somewhere inside elf 2 range\n",
    "        score2 += 1\n",
    "    elif elf2lo >= elf1lo and elf2lo <= elf1hi: #elf 2 lo is somewhere inside elf 1 range\n",
    "        score2 += 1\n",
    "\n",
    "\n",
    "print('Number of non-busy Elves:', score1)\n",
    "print('Number of overlapping Elf pairs:', score2)"
   ]
  }
 ],
 "metadata": {
  "kernelspec": {
   "display_name": "Python 3.9.12 ('base')",
   "language": "python",
   "name": "python3"
  },
  "language_info": {
   "codemirror_mode": {
    "name": "ipython",
    "version": 3
   },
   "file_extension": ".py",
   "mimetype": "text/x-python",
   "name": "python",
   "nbconvert_exporter": "python",
   "pygments_lexer": "ipython3",
   "version": "3.9.12"
  },
  "orig_nbformat": 4,
  "vscode": {
   "interpreter": {
    "hash": "df373f8daa4863e48189e3ee1b9bdcc41be48fbce57baf3694a1e9c77405ba32"
   }
  }
 },
 "nbformat": 4,
 "nbformat_minor": 2
}
