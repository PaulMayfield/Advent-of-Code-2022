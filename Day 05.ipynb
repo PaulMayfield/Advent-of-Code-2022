{
 "cells": [
  {
   "cell_type": "code",
   "execution_count": 97,
   "metadata": {},
   "outputs": [],
   "source": [
    "import requests\n",
    "import os\n",
    "\n",
    "Day = 5\n",
    "\n",
    "# get file from website using private session key stored in enviromental variables\n",
    "r = requests.get(\n",
    "            f'https://adventofcode.com/2022/day/'+str(Day)+'/input',\n",
    "            cookies={'session': os.getenv('AdventSessionKey')}\n",
    ")\n",
    "\n",
    "data = r.text.split('\\n')"
   ]
  },
  {
   "cell_type": "code",
   "execution_count": 98,
   "metadata": {},
   "outputs": [
    {
     "name": "stdout",
     "output_type": "stream",
     "text": [
      "ZSQVCCJLL\n"
     ]
    }
   ],
   "source": [
    "# load the stacks\n",
    "stacks = []\n",
    "\n",
    "for j in [1, 5, 9, 13, 17, 21, 25, 29, 33]: #this feels like cheating, but the data set is so weird :(\n",
    "    stackN=[]\n",
    "    for i in range(8):\n",
    "        if data[8-i-1][j] != ' ':\n",
    "            stackN.append(data[8-i-1][j])\n",
    "    stacks.append(stackN)\n",
    "\n",
    "\n",
    "for row in range(10,len(data)-1):\n",
    "    \n",
    "    # box count = number of boxes to move\n",
    "    temp = data[row].split('from')\n",
    "    boxcount = int(temp[0].replace('move','').strip())\n",
    "    \n",
    "    # stack to move it from and to\n",
    "    [stackFrom, stackTo] = [int(x.strip())-1 for x in temp[1].split('to')]\n",
    "    \n",
    "    # move boxes\n",
    "    for i in range(boxcount):              \n",
    "        stacks[stackTo].append(stacks[stackFrom].pop(-1))\n",
    "\n",
    "# Answer\n",
    "ans=''\n",
    "for i in range(9):\n",
    "    ans += stacks[i].pop()\n",
    "print(ans)\n"
   ]
  },
  {
   "cell_type": "code",
   "execution_count": 99,
   "metadata": {},
   "outputs": [
    {
     "name": "stdout",
     "output_type": "stream",
     "text": [
      "QZFJRWHGS\n"
     ]
    }
   ],
   "source": [
    "# load the stacks\n",
    "stacks = []\n",
    "\n",
    "for j in [1, 5, 9, 13, 17, 21, 25, 29, 33]:\n",
    "    stackN=[]\n",
    "    for i in range(8):\n",
    "        if data[8-i-1][j] != ' ':\n",
    "            stackN.append(data[8-i-1][j])\n",
    "    stacks.append(stackN)\n",
    "\n",
    "\n",
    "for row in range(10,len(data)-1):\n",
    "    \n",
    "    # box count = number of boxes to move\n",
    "    temp = data[row].split('from')\n",
    "    boxcount = int(temp[0].replace('move','').strip())\n",
    "    \n",
    "    # stack to move it from and to\n",
    "    [stackFrom, stackTo] = [int(x.strip())-1 for x in temp[1].split('to')]\n",
    "    \n",
    "    # move boxes - invert the pop to move boxes in correct order\n",
    "    for i in range(boxcount):              \n",
    "        stacks[stackTo].append(stacks[stackFrom].pop(-(boxcount-i)))\n",
    "\n",
    "# Answer\n",
    "ans=''\n",
    "for i in range(9):\n",
    "    ans += stacks[i].pop()\n",
    "print(ans)\n"
   ]
  }
 ],
 "metadata": {
  "kernelspec": {
   "display_name": "Python 3.9.12 ('base')",
   "language": "python",
   "name": "python3"
  },
  "language_info": {
   "codemirror_mode": {
    "name": "ipython",
    "version": 3
   },
   "file_extension": ".py",
   "mimetype": "text/x-python",
   "name": "python",
   "nbconvert_exporter": "python",
   "pygments_lexer": "ipython3",
   "version": "3.9.12"
  },
  "orig_nbformat": 4,
  "vscode": {
   "interpreter": {
    "hash": "df373f8daa4863e48189e3ee1b9bdcc41be48fbce57baf3694a1e9c77405ba32"
   }
  }
 },
 "nbformat": 4,
 "nbformat_minor": 2
}
