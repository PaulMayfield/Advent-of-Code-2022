{
 "cells": [
  {
   "cell_type": "code",
   "execution_count": 43,
   "metadata": {},
   "outputs": [],
   "source": [
    "import requests\n",
    "import os\n",
    "\n",
    "Day = 10\n",
    "\n",
    "# get file from website using private session key stored in enviromental variables\n",
    "r = requests.get(\n",
    "            f'https://adventofcode.com/2022/day/'+str(Day)+'/input',\n",
    "            cookies={'session': os.getenv('AdventSessionKey')}\n",
    ")\n",
    "\n",
    "data = r.text.strip().split('\\n')\n"
   ]
  },
  {
   "cell_type": "code",
   "execution_count": 44,
   "metadata": {},
   "outputs": [
    {
     "data": {
      "text/plain": [
       "15260"
      ]
     },
     "execution_count": 44,
     "metadata": {},
     "output_type": "execute_result"
    }
   ],
   "source": [
    "mylog=[0,1]\n",
    "\n",
    "# instruction happens AFTER cycle's value\n",
    "\n",
    "for inst in data:\n",
    "    if inst == 'noop':\n",
    "        mylog.append(mylog[-1])\n",
    "    else:\n",
    "        mylog.append(mylog[-1])\n",
    "        mylog.append(mylog[-1] + int(inst.split(' ')[1]))\n",
    "\n",
    "ans = 0\n",
    "for x in range(20,221,40):\n",
    "    ans += x * mylog[x]\n",
    "\n",
    "ans\n"
   ]
  },
  {
   "cell_type": "code",
   "execution_count": 45,
   "metadata": {},
   "outputs": [
    {
     "name": "stdout",
     "output_type": "stream",
     "text": [
      "███   ██  █  █ ████  ██  █    █  █  ██  \n",
      "█  █ █  █ █  █ █    █  █ █    █  █ █  █ \n",
      "█  █ █    ████ ███  █    █    █  █ █    \n",
      "███  █ ██ █  █ █    █ ██ █    █  █ █ ██ \n",
      "█    █  █ █  █ █    █  █ █    █  █ █  █ \n",
      "█     ███ █  █ █     ███ ████  ██   ███ \n",
      " \n"
     ]
    }
   ],
   "source": [
    "crt = ''\n",
    "\n",
    "for i in range(1,len(mylog)):\n",
    "    if abs(mylog[i] - (i-1)%40) <= 1:\n",
    "        crt += chr(9608) # repace # with '█' for readability\n",
    "    else:\n",
    "        crt += ' ' # replace '.' for better readability of answer\n",
    "    if i%40 == 0:\n",
    "        crt += '\\n'\n",
    "    \n",
    "\n",
    "print(crt)\n"
   ]
  }
 ],
 "metadata": {
  "kernelspec": {
   "display_name": "Python 3.9.12 ('base')",
   "language": "python",
   "name": "python3"
  },
  "language_info": {
   "codemirror_mode": {
    "name": "ipython",
    "version": 3
   },
   "file_extension": ".py",
   "mimetype": "text/x-python",
   "name": "python",
   "nbconvert_exporter": "python",
   "pygments_lexer": "ipython3",
   "version": "3.9.12"
  },
  "orig_nbformat": 4,
  "vscode": {
   "interpreter": {
    "hash": "df373f8daa4863e48189e3ee1b9bdcc41be48fbce57baf3694a1e9c77405ba32"
   }
  }
 },
 "nbformat": 4,
 "nbformat_minor": 2
}
